{
 "cells": [
  {
   "cell_type": "code",
   "execution_count": 1,
   "metadata": {},
   "outputs": [],
   "source": [
    "import planta as planta1"
   ]
  },
  {
   "cell_type": "markdown",
   "metadata": {},
   "source": [
    "        -0.001381  * (e^-20.87s)\n",
    "G(s) =  ---------- \n",
    "        s + 0.0181 "
   ]
  },
  {
   "cell_type": "code",
   "execution_count": 1,
   "metadata": {},
   "outputs": [
    {
     "name": "stdout",
     "output_type": "stream",
     "text": [
      "3.176729398248033 41.74 10.435\n"
     ]
    },
    {
     "ename": "NameError",
     "evalue": "name 'planta1' is not defined",
     "output_type": "error",
     "traceback": [
      "\u001b[1;31m---------------------------------------------------------------------------\u001b[0m",
      "\u001b[1;31mNameError\u001b[0m                                 Traceback (most recent call last)",
      "\u001b[1;32mc:\\Users\\LuizdaSilvaMoura\\Documents\\facu\\tcc\\ControlProject\\PID\\Codigo\\Ziegler_and_Nichols.ipynb Célula: 3\u001b[0m in \u001b[0;36m<cell line: 7>\u001b[1;34m()\u001b[0m\n\u001b[0;32m      <a href='vscode-notebook-cell:/c%3A/Users/LuizdaSilvaMoura/Documents/facu/tcc/ControlProject/PID/Codigo/Ziegler_and_Nichols.ipynb#ch0000002?line=4'>5</a>\u001b[0m Kd \u001b[39m=\u001b[39m \u001b[39m0.5\u001b[39m\u001b[39m*\u001b[39mL\n\u001b[0;32m      <a href='vscode-notebook-cell:/c%3A/Users/LuizdaSilvaMoura/Documents/facu/tcc/ControlProject/PID/Codigo/Ziegler_and_Nichols.ipynb#ch0000002?line=5'>6</a>\u001b[0m \u001b[39mprint\u001b[39m(Kp,Ki,Kd)\n\u001b[1;32m----> <a href='vscode-notebook-cell:/c%3A/Users/LuizdaSilvaMoura/Documents/facu/tcc/ControlProject/PID/Codigo/Ziegler_and_Nichols.ipynb#ch0000002?line=6'>7</a>\u001b[0m planta1\u001b[39m.\u001b[39mplot([[Kp,Ki,Kd]])\n",
      "\u001b[1;31mNameError\u001b[0m: name 'planta1' is not defined"
     ]
    }
   ],
   "source": [
    "T = 1/0.0181\n",
    "L = 20.87\n",
    "Kp = 1.2*T/L\n",
    "Ki = 2.0*L\n",
    "Kd = 0.5*L\n",
    "print(Kp,Ki,Kd)\n",
    "planta1.plot([[Kp,Ki,Kd]])"
   ]
  },
  {
   "cell_type": "code",
   "execution_count": null,
   "metadata": {},
   "outputs": [],
   "source": [
    "import control as control\n",
    "import numpy as np\n",
    "import matplotlib.pyplot as plt\n",
    "pi =25#posição inicial \n",
    "pf = 70#posição final\n",
    "time_end = 1000 #tempo final de simulação\n",
    "dt = 0.01 # passo da simulação\n",
    "s = control.tf('s')\n",
    "\n",
    "G =  ((-0.001381/0.0181 )/(1 + ((1/0.0181) *s)))\n",
    "#G = 0.20742/(1 + 35*s);\n",
    "\n",
    "\n",
    "nt = int ( time_end / dt ) + 1 # Number of points of sim time\n",
    "Ts = control.feedback(G,1)\n",
    "t = np.linspace(0,time_end,nt)\n",
    "u = pf * np.ones(nt)\n",
    "T,Y= control.forced_response(Ts,t,u , X0 = pi)\n",
    "Pid = Kp*(1 + (1/(Ki*s)) +(Kd*s))\n",
    "T,Y= control.forced_response(G*Kp,t,u )\n",
    "plt.figure()\n",
    "plt.plot(T, Y + 25.0, lw=2)"
   ]
  }
 ],
 "metadata": {
  "kernelspec": {
   "display_name": "Python 3.9.6 64-bit",
   "language": "python",
   "name": "python3"
  },
  "language_info": {
   "codemirror_mode": {
    "name": "ipython",
    "version": 3
   },
   "file_extension": ".py",
   "mimetype": "text/x-python",
   "name": "python",
   "nbconvert_exporter": "python",
   "pygments_lexer": "ipython3",
   "version": "3.9.6"
  },
  "orig_nbformat": 4,
  "vscode": {
   "interpreter": {
    "hash": "81794d4967e6c3204c66dcd87b604927b115b27c00565d3d43f05ba2f3a2cb0d"
   }
  }
 },
 "nbformat": 4,
 "nbformat_minor": 2
}
